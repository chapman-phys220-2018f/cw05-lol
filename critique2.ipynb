{
 "cells": [
  {
   "cell_type": "markdown",
   "metadata": {
    "collapsed": false
   },
   "source": [
    "## CW 05\n",
    "\n",
    "Gwyneth Casey\n",
    "September 27th 2018"
   ]
  },
  {
   "cell_type": "markdown",
   "metadata": {
    "collapsed": false
   },
   "source": [
    "## Instructions\n",
    "Have one member of your group (the \"reviewee\") open the python code for their previous CW03 (i.e., the module, the test module, and the Juyter notebook). Have the other member (the \"reviewer\") constructively critique the code in a clearly labeled section of the critique Jupyter notebook. Use the following questions as a guideline: Is it clear how the code is organized? Is the code properly documented with both docstrings and supplementary comments according to industry standards? Can you follow the algorithm of the code, i.e., what it is doing, and how? Does the code work? (Try cloning the respository and running it yourself to make sure it runs correctly.) Do you see any suggestions for how to improve the code? Are the test cases in the test module run by the code automatically by Travis? Do the tests verify correct functionality? On a scale of 0-100, the reviewer should rate the work produced by the reviewee. As the reviewer writes this critique and evaluation into the Jupyter notebook, the reviewer should discuss these questions and any issues that arise with the reviewee."
   ]
  },
  {
   "cell_type": "markdown",
   "metadata": {
    "collapsed": false
   },
   "source": [
    "Reviewing Gabriella's CW03"
   ]
  },
  {
   "cell_type": "markdown",
   "metadata": {
    "collapsed": false
   },
   "source": [
    "**Is it clear how the code is organized? Is the code properly documented with both docstrings and supplementary comments according to industry standards?**\n",
    "Code is well organized but has no doc strings, which is supposed to be within each function."
   ]
  },
  {
   "cell_type": "markdown",
   "metadata": {
    "collapsed": false
   },
   "source": [
    "**Can you follow the algorithm of the code, i.e., what it is doing, and how? Does the code work?**\n",
    "I can follow the algorithm somewhat, but not well because there are no doc strings. The code works."
   ]
  },
  {
   "cell_type": "markdown",
   "metadata": {
    "collapsed": false
   },
   "source": [
    "**Do you see any suggestions for how to improve the code?**\n",
    "Include docstrings."
   ]
  },
  {
   "cell_type": "markdown",
   "metadata": {
    "collapsed": false
   },
   "source": [
    "**Are the test cases in the test module run by the code automatically by Travis?**\n",
    "Yes"
   ]
  },
  {
   "cell_type": "markdown",
   "metadata": {
    "collapsed": false
   },
   "source": [
    "**Do the tests verify correct functionality?**\n",
    "Yes"
   ]
  },
  {
   "cell_type": "markdown",
   "metadata": {
    "collapsed": false
   },
   "source": [
    "**On a scale of 0-100, the reviewer should rate the work produced by the reviewee.**\n",
    "95"
   ]
  }
 ],
 "metadata": {
  "kernelspec": {
   "display_name": "Python 3 (Anaconda 5)",
   "language": "python",
   "name": "anaconda5"
  }
 },
 "nbformat": 4,
 "nbformat_minor": 0
}