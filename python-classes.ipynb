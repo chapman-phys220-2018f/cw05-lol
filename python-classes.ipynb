{
 "cells": [
  {
   "cell_type": "code",
   "execution_count": 2,
   "metadata": {
    "collapsed": false
   },
   "outputs": [
    {
     "name": "stdout",
     "output_type": "stream",
     "text": [
      "I, Napoleon, do roar.\n",
      "I, Ronaldo, do roar.\n",
      "I, Ronaldo, do roar.\n",
      "I, Ronaldo, do roar.\n"
     ]
    }
   ],
   "source": [
    "class Bear(object):           # subclass of \"object\"\n",
    "    \"\"\"Bear as a data-type\"\"\"\n",
    "    \n",
    "    fur = \"brown\"             # class attribute\n",
    "                              # (data stored by class)\n",
    "    \n",
    "    def __init__(self, name): # class constructor\n",
    "        self.name = name      # instance attribute\n",
    "                              # (data stored by object)\n",
    "    \n",
    "    def roar(self):           # instance method\n",
    "        print(\"I, {}, do roar.\".format(self.name))\n",
    "\n",
    "Bear.fur\n",
    "b1 = Bear(\"Ronaldo\")\n",
    "type(b1)\n",
    "b1.name\n",
    "b1.fur\n",
    "b2 = Bear(\"Napoleon\")\n",
    "b2.name\n",
    "b2.roar()\n",
    "\n",
    "b1.roar()\n",
    "Bear.roar(b1)\n",
    "type(b1).roar(b1)"
   ]
  },
  {
   "cell_type": "markdown",
   "metadata": {
    "collapsed": false
   },
   "source": [
    "__init__ is a \"constructor\" method that is run only once, when the object is created.  The arguments of __init__ are the ones used to construct the object and set default properties."
   ]
  },
  {
   "cell_type": "markdown",
   "metadata": {
    "collapsed": false
   },
   "source": [
    "***Key Notes on Slides***\n",
    "\n",
    "Basic ideas:\n",
    "- a class describes similar objects\n",
    "- an object is an instance of a class\n",
    "- data inside an object are attributes\n",
    "- functions inside an object are methods\n",
    "- the special parameter self describes one particular instance of the class\n",
    "- the special method __init__ constructs new instances of the class\n",
    "- the special method __call__ executes an instance of the class as a normal function"
   ]
  },
  {
   "cell_type": "code",
   "execution_count": 3,
   "metadata": {
    "collapsed": false
   },
   "outputs": [
    {
     "name": "stdout",
     "output_type": "stream",
     "text": [
      "I, Ronaldo, do roar.\n",
      "I, George, cannot roar.\n",
      "I, George, do roar.\n"
     ]
    }
   ],
   "source": [
    "class StuffedBear(Bear):\n",
    "    def roar(self):\n",
    "        print(\"I, {}, cannot roar.\".format(self.name))\n",
    "        \n",
    "b = Bear(\"Ronaldo\")\n",
    "s = StuffedBear(\"George\")\n",
    "b.roar()\n",
    "s.roar()\n",
    "\n",
    "super(StuffedBear, s).roar()"
   ]
  },
  {
   "cell_type": "markdown",
   "metadata": {
    "collapsed": false
   },
   "source": [
    "Magic methods are conventions used by the language to identify common structural features and use them"
   ]
  },
  {
   "cell_type": "code",
   "execution_count": 0,
   "metadata": {
    "collapsed": false
   },
   "outputs": [
   ],
   "source": [
   ]
  }
 ],
 "metadata": {
  "kernelspec": {
   "display_name": "Python 3 (Anaconda 5)",
   "language": "python",
   "name": "anaconda5"
  }
 },
 "nbformat": 4,
 "nbformat_minor": 0
}